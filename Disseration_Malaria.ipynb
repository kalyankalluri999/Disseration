{
  "cells": [
    {
      "cell_type": "markdown",
      "metadata": {
        "id": "view-in-github",
        "colab_type": "text"
      },
      "source": [
        "<a href=\"https://colab.research.google.com/github/kalyankalluri999/Disseration/blob/main/Disseration_Malaria.ipynb\" target=\"_parent\"><img src=\"https://colab.research.google.com/assets/colab-badge.svg\" alt=\"Open In Colab\"/></a>"
      ]
    },
    {
      "cell_type": "code",
      "execution_count": 4,
      "metadata": {
        "id": "pmcNR63E1-XD"
      },
      "outputs": [],
      "source": [
        "from tensorflow.keras.layers import Input, Flatten, Dense, Conv2D, Lambda, MaxPooling2D\n",
        "from tensorflow.keras.models import Model\n",
        "from tensorflow.keras.applications.vgg19 import VGG19\n",
        "from tensorflow.keras.applications.resnet50 import preprocess_input\n",
        "from tensorflow.keras.preprocessing import image\n",
        "from tensorflow.keras.preprocessing.image import ImageDataGenerator, load_img\n",
        "from tensorflow.keras.models import Sequential\n",
        "import numpy as np\n",
        "import pandas as pd\n",
        "from glob import glob\n",
        "import matplotlib.pyplot as plt\n",
        "import cv2\n",
        "import os"
      ]
    },
    {
      "cell_type": "code",
      "execution_count": 5,
      "metadata": {
        "id": "29iVPeTu2Msk"
      },
      "outputs": [],
      "source": [
        "IMG_SIZE = 64\n",
        "category = ['Uninfected', 'Parasitized']\n",
        "def get_train_data(direct):\n",
        "    data = []\n",
        "    for labels in category:\n",
        "        path = os.path.join(direct, labels)\n",
        "        class_num = category.index(labels)\n",
        "        for img in os.listdir(path):\n",
        "            try:\n",
        "                img_array = cv2.imread(os.path.join(path, img), cv2.IMREAD_COLOR)\n",
        "                new_array = cv2.resize(img_array, (IMG_SIZE, IMG_SIZE))\n",
        "                data.append([new_array, class_num])\n",
        "            except Exception as e:\n",
        "                print(e)\n",
        "    return np.array(data)"
      ]
    },
    {
      "cell_type": "code",
      "execution_count": 6,
      "metadata": {
        "colab": {
          "base_uri": "https://localhost:8080/"
        },
        "id": "xDAylhOk_ZFJ",
        "outputId": "70d6cd1b-057b-4420-cc55-79a2064b0b37"
      },
      "outputs": [
        {
          "output_type": "stream",
          "name": "stdout",
          "text": [
            "OpenCV(4.6.0) /io/opencv/modules/imgproc/src/resize.cpp:4052: error: (-215:Assertion failed) !ssize.empty() in function 'resize'\n",
            "\n",
            "OpenCV(4.6.0) /io/opencv/modules/imgproc/src/resize.cpp:4052: error: (-215:Assertion failed) !ssize.empty() in function 'resize'\n",
            "\n"
          ]
        },
        {
          "output_type": "stream",
          "name": "stderr",
          "text": [
            "/usr/local/lib/python3.7/dist-packages/ipykernel_launcher.py:15: VisibleDeprecationWarning: Creating an ndarray from ragged nested sequences (which is a list-or-tuple of lists-or-tuples-or ndarrays with different lengths or shapes) is deprecated. If you meant to do this, you must specify 'dtype=object' when creating the ndarray.\n",
            "  from ipykernel import kernelapp as app\n"
          ]
        }
      ],
      "source": [
        "new_data = get_train_data(\"/content/drive/MyDrive/Malaria/cell_images\")"
      ]
    },
    {
      "cell_type": "code",
      "execution_count": 7,
      "metadata": {
        "id": "bpDfYdEp_fYA"
      },
      "outputs": [],
      "source": [
        "X = []\n",
        "y = []\n",
        "for feature, label in new_data:\n",
        "    X.append(feature)\n",
        "    y.append(label)\n",
        "from keras.utils import np_utils\n",
        "y = np_utils.to_categorical(y, num_classes = 2)\n",
        "X = np.array(X)\n",
        "y = np.array(y)\n",
        "X = X.reshape(-1, 64, 64, 3)"
      ]
    },
    {
      "cell_type": "code",
      "execution_count": 8,
      "metadata": {
        "id": "TXm9AgpV_jXi"
      },
      "outputs": [],
      "source": [
        "from sklearn.model_selection import train_test_split\n",
        "X_train, X_test, y_train, y_test = train_test_split(X, y, test_size=0.3, random_state=42)"
      ]
    },
    {
      "cell_type": "code",
      "execution_count": 9,
      "metadata": {
        "id": "cx4PCDe__qMG"
      },
      "outputs": [],
      "source": [
        "from keras.preprocessing.image import ImageDataGenerator\n",
        "\n",
        "train_generator = ImageDataGenerator(rescale = 1/255,\n",
        "                                     zoom_range = 0.3,\n",
        "                                     horizontal_flip = True,\n",
        "                                     rotation_range = 30)\n",
        "\n",
        "test_generator = ImageDataGenerator(rescale = 1/255)\n",
        "\n",
        "train_generator = train_generator.flow(np.array(X_train),\n",
        "                                       y_train,\n",
        "                                       batch_size = 64,\n",
        "                                       shuffle = False)\n",
        "\n",
        "test_generator = test_generator.flow(np.array(X_test),\n",
        "                                     y_test,\n",
        "                                     batch_size = 64,\n",
        "                                     shuffle = False)"
      ]
    },
    {
      "cell_type": "code",
      "execution_count": 10,
      "metadata": {
        "colab": {
          "base_uri": "https://localhost:8080/"
        },
        "id": "O5vLZ9de_wxd",
        "outputId": "5db1c4c2-935a-47cc-f97b-22b2ba636899"
      },
      "outputs": [
        {
          "output_type": "stream",
          "name": "stdout",
          "text": [
            "Downloading data from https://storage.googleapis.com/tensorflow/keras-applications/vgg19/vgg19_weights_tf_dim_ordering_tf_kernels_notop.h5\n",
            "80142336/80134624 [==============================] - 1s 0us/step\n",
            "80150528/80134624 [==============================] - 1s 0us/step\n"
          ]
        }
      ],
      "source": [
        "vg19 = VGG19(input_shape=[IMG_SIZE, IMG_SIZE] + [3], weights=\"imagenet\", include_top=False)\n",
        "\n",
        "for layer in vg19.layers:\n",
        "    layer.trainable = False\n",
        "\n",
        "x = Flatten()(vg19.output)\n",
        "\n",
        "prediction = Dense(len(category), activation=\"softmax\")(x)\n",
        "\n",
        "model = Model(inputs=vg19.input, outputs=prediction)\n",
        "\n",
        "model.compile(loss=\"categorical_crossentropy\", metrics=[\"accuracy\"], optimizer=\"adam\")"
      ]
    },
    {
      "cell_type": "code",
      "execution_count": 11,
      "metadata": {
        "colab": {
          "base_uri": "https://localhost:8080/"
        },
        "id": "r7U435vW_0gN",
        "outputId": "add17b64-a32a-42ab-894a-500f37b6adcd"
      },
      "outputs": [
        {
          "output_type": "stream",
          "name": "stderr",
          "text": [
            "/usr/local/lib/python3.7/dist-packages/ipykernel_launcher.py:5: UserWarning: `Model.fit_generator` is deprecated and will be removed in a future version. Please use `Model.fit`, which supports generators.\n",
            "  \"\"\"\n"
          ]
        },
        {
          "output_type": "stream",
          "name": "stdout",
          "text": [
            "Epoch 1/50\n",
            "301/301 [==============================] - 41s 96ms/step - loss: 0.3961 - accuracy: 0.8263 - val_loss: 0.3186 - val_accuracy: 0.8645\n",
            "Epoch 2/50\n",
            "301/301 [==============================] - 29s 95ms/step - loss: 0.3136 - accuracy: 0.8716 - val_loss: 0.2712 - val_accuracy: 0.9052\n",
            "Epoch 3/50\n",
            "301/301 [==============================] - 28s 93ms/step - loss: 0.3040 - accuracy: 0.8780 - val_loss: 0.2573 - val_accuracy: 0.9023\n",
            "Epoch 4/50\n",
            "301/301 [==============================] - 28s 94ms/step - loss: 0.2945 - accuracy: 0.8823 - val_loss: 0.2481 - val_accuracy: 0.9086\n",
            "Epoch 5/50\n",
            "301/301 [==============================] - 28s 94ms/step - loss: 0.2837 - accuracy: 0.8840 - val_loss: 0.2444 - val_accuracy: 0.9060\n",
            "Epoch 6/50\n",
            "301/301 [==============================] - 28s 94ms/step - loss: 0.2862 - accuracy: 0.8875 - val_loss: 0.2410 - val_accuracy: 0.9111\n",
            "Epoch 7/50\n",
            "301/301 [==============================] - 28s 93ms/step - loss: 0.2797 - accuracy: 0.8883 - val_loss: 0.2377 - val_accuracy: 0.9153\n",
            "Epoch 8/50\n",
            "301/301 [==============================] - 28s 94ms/step - loss: 0.2767 - accuracy: 0.8895 - val_loss: 0.2344 - val_accuracy: 0.9138\n",
            "Epoch 9/50\n",
            "301/301 [==============================] - 29s 95ms/step - loss: 0.2747 - accuracy: 0.8926 - val_loss: 0.2350 - val_accuracy: 0.9159\n",
            "Epoch 10/50\n",
            "301/301 [==============================] - 30s 98ms/step - loss: 0.2728 - accuracy: 0.8927 - val_loss: 0.2292 - val_accuracy: 0.9130\n",
            "Epoch 11/50\n",
            "301/301 [==============================] - 30s 99ms/step - loss: 0.2757 - accuracy: 0.8899 - val_loss: 0.2310 - val_accuracy: 0.9174\n",
            "Epoch 12/50\n",
            "301/301 [==============================] - 30s 99ms/step - loss: 0.2692 - accuracy: 0.8923 - val_loss: 0.2281 - val_accuracy: 0.9118\n",
            "Epoch 13/50\n",
            "301/301 [==============================] - 30s 98ms/step - loss: 0.2652 - accuracy: 0.8957 - val_loss: 0.2290 - val_accuracy: 0.9211\n",
            "Epoch 14/50\n",
            "301/301 [==============================] - 28s 93ms/step - loss: 0.2696 - accuracy: 0.8906 - val_loss: 0.2387 - val_accuracy: 0.9149\n",
            "Epoch 15/50\n",
            "301/301 [==============================] - 28s 93ms/step - loss: 0.2641 - accuracy: 0.8955 - val_loss: 0.2314 - val_accuracy: 0.9185\n",
            "Epoch 16/50\n",
            "301/301 [==============================] - 28s 93ms/step - loss: 0.2666 - accuracy: 0.8962 - val_loss: 0.2238 - val_accuracy: 0.9191\n",
            "Epoch 17/50\n",
            "301/301 [==============================] - 28s 93ms/step - loss: 0.2664 - accuracy: 0.8946 - val_loss: 0.2334 - val_accuracy: 0.9172\n",
            "Epoch 18/50\n",
            "301/301 [==============================] - 28s 92ms/step - loss: 0.2693 - accuracy: 0.8928 - val_loss: 0.2282 - val_accuracy: 0.9199\n",
            "Epoch 19/50\n",
            "301/301 [==============================] - 28s 93ms/step - loss: 0.2705 - accuracy: 0.8919 - val_loss: 0.2381 - val_accuracy: 0.9163\n",
            "Epoch 20/50\n",
            "301/301 [==============================] - 28s 93ms/step - loss: 0.2611 - accuracy: 0.8990 - val_loss: 0.2313 - val_accuracy: 0.9168\n",
            "Epoch 21/50\n",
            "301/301 [==============================] - 28s 94ms/step - loss: 0.2630 - accuracy: 0.8954 - val_loss: 0.2182 - val_accuracy: 0.9196\n",
            "Epoch 22/50\n",
            "301/301 [==============================] - 28s 93ms/step - loss: 0.2644 - accuracy: 0.8949 - val_loss: 0.2202 - val_accuracy: 0.9210\n",
            "Epoch 23/50\n",
            "301/301 [==============================] - 28s 93ms/step - loss: 0.2670 - accuracy: 0.8933 - val_loss: 0.2261 - val_accuracy: 0.9205\n",
            "Epoch 24/50\n",
            "301/301 [==============================] - 28s 94ms/step - loss: 0.2638 - accuracy: 0.8938 - val_loss: 0.2228 - val_accuracy: 0.9216\n",
            "Epoch 25/50\n",
            "301/301 [==============================] - 29s 96ms/step - loss: 0.2591 - accuracy: 0.8970 - val_loss: 0.2151 - val_accuracy: 0.9220\n",
            "Epoch 26/50\n",
            "301/301 [==============================] - 30s 99ms/step - loss: 0.2598 - accuracy: 0.8978 - val_loss: 0.2155 - val_accuracy: 0.9239\n",
            "Epoch 27/50\n",
            "301/301 [==============================] - 30s 100ms/step - loss: 0.2596 - accuracy: 0.8958 - val_loss: 0.2132 - val_accuracy: 0.9214\n",
            "Epoch 28/50\n",
            "301/301 [==============================] - 30s 99ms/step - loss: 0.2624 - accuracy: 0.8958 - val_loss: 0.2188 - val_accuracy: 0.9208\n",
            "Epoch 29/50\n",
            "301/301 [==============================] - 29s 96ms/step - loss: 0.2561 - accuracy: 0.8983 - val_loss: 0.2128 - val_accuracy: 0.9188\n",
            "Epoch 30/50\n",
            "301/301 [==============================] - 29s 95ms/step - loss: 0.2576 - accuracy: 0.8971 - val_loss: 0.2231 - val_accuracy: 0.9207\n",
            "Epoch 31/50\n",
            "301/301 [==============================] - 29s 95ms/step - loss: 0.2638 - accuracy: 0.8960 - val_loss: 0.2171 - val_accuracy: 0.9208\n",
            "Epoch 32/50\n",
            "301/301 [==============================] - 29s 95ms/step - loss: 0.2559 - accuracy: 0.8983 - val_loss: 0.2178 - val_accuracy: 0.9211\n",
            "Epoch 33/50\n",
            "301/301 [==============================] - 28s 94ms/step - loss: 0.2606 - accuracy: 0.8964 - val_loss: 0.2131 - val_accuracy: 0.9228\n",
            "Epoch 34/50\n",
            "301/301 [==============================] - 29s 95ms/step - loss: 0.2583 - accuracy: 0.8986 - val_loss: 0.2237 - val_accuracy: 0.9219\n",
            "Epoch 35/50\n",
            "301/301 [==============================] - 28s 94ms/step - loss: 0.2587 - accuracy: 0.8970 - val_loss: 0.2132 - val_accuracy: 0.9211\n",
            "Epoch 36/50\n",
            "301/301 [==============================] - 29s 95ms/step - loss: 0.2565 - accuracy: 0.8996 - val_loss: 0.2147 - val_accuracy: 0.9203\n",
            "Epoch 37/50\n",
            "301/301 [==============================] - 28s 94ms/step - loss: 0.2626 - accuracy: 0.8943 - val_loss: 0.2219 - val_accuracy: 0.9204\n",
            "Epoch 38/50\n",
            "301/301 [==============================] - 28s 94ms/step - loss: 0.2564 - accuracy: 0.8985 - val_loss: 0.2300 - val_accuracy: 0.9193\n",
            "Epoch 39/50\n",
            "301/301 [==============================] - 28s 93ms/step - loss: 0.2544 - accuracy: 0.8987 - val_loss: 0.2124 - val_accuracy: 0.9208\n",
            "Epoch 40/50\n",
            "301/301 [==============================] - 28s 94ms/step - loss: 0.2562 - accuracy: 0.8995 - val_loss: 0.2167 - val_accuracy: 0.9228\n",
            "Epoch 41/50\n",
            "301/301 [==============================] - 30s 98ms/step - loss: 0.2563 - accuracy: 0.8992 - val_loss: 0.2141 - val_accuracy: 0.9211\n",
            "Epoch 42/50\n",
            "301/301 [==============================] - 30s 99ms/step - loss: 0.2538 - accuracy: 0.9001 - val_loss: 0.2263 - val_accuracy: 0.9193\n",
            "Epoch 43/50\n",
            "301/301 [==============================] - 30s 99ms/step - loss: 0.2578 - accuracy: 0.8985 - val_loss: 0.2224 - val_accuracy: 0.9192\n",
            "Epoch 44/50\n",
            "301/301 [==============================] - 30s 99ms/step - loss: 0.2548 - accuracy: 0.9010 - val_loss: 0.2121 - val_accuracy: 0.9216\n",
            "Epoch 45/50\n",
            "301/301 [==============================] - 28s 94ms/step - loss: 0.2551 - accuracy: 0.8983 - val_loss: 0.2118 - val_accuracy: 0.9222\n",
            "Epoch 46/50\n",
            "301/301 [==============================] - 28s 94ms/step - loss: 0.2564 - accuracy: 0.8996 - val_loss: 0.2125 - val_accuracy: 0.9207\n",
            "Epoch 47/50\n",
            "301/301 [==============================] - 28s 94ms/step - loss: 0.2613 - accuracy: 0.8966 - val_loss: 0.2257 - val_accuracy: 0.9197\n",
            "Epoch 48/50\n",
            "301/301 [==============================] - 28s 94ms/step - loss: 0.2608 - accuracy: 0.8964 - val_loss: 0.2109 - val_accuracy: 0.9226\n",
            "Epoch 49/50\n",
            "301/301 [==============================] - 28s 94ms/step - loss: 0.2530 - accuracy: 0.9001 - val_loss: 0.2145 - val_accuracy: 0.9215\n",
            "Epoch 50/50\n",
            "301/301 [==============================] - 28s 94ms/step - loss: 0.2564 - accuracy: 0.8984 - val_loss: 0.2292 - val_accuracy: 0.9172\n"
          ]
        }
      ],
      "source": [
        "history = model.fit_generator(train_generator,\n",
        "                                   steps_per_epoch = len(X_train)/64,\n",
        "                                   epochs = 50,\n",
        "                                   shuffle = False,\n",
        "                                   validation_data=test_generator, validation_steps=len(test_generator))"
      ]
    },
    {
      "cell_type": "code",
      "execution_count": 12,
      "metadata": {
        "colab": {
          "base_uri": "https://localhost:8080/"
        },
        "id": "DIDI1JMC_4XN",
        "outputId": "f9d03f45-854b-42ea-b9ca-dfb739206e95"
      },
      "outputs": [
        {
          "output_type": "stream",
          "name": "stderr",
          "text": [
            "/usr/local/lib/python3.7/dist-packages/ipykernel_launcher.py:1: UserWarning: `Model.evaluate_generator` is deprecated and will be removed in a future version. Please use `Model.evaluate`, which supports generators.\n",
            "  \"\"\"Entry point for launching an IPython kernel.\n"
          ]
        },
        {
          "output_type": "execute_result",
          "data": {
            "text/plain": [
              "[0.22921337187290192, 0.9171504378318787]"
            ]
          },
          "metadata": {},
          "execution_count": 12
        }
      ],
      "source": [
        "model.evaluate_generator(test_generator)"
      ]
    },
    {
      "cell_type": "code",
      "execution_count": 13,
      "metadata": {
        "colab": {
          "base_uri": "https://localhost:8080/",
          "height": 513
        },
        "id": "x35p3gg4_63i",
        "outputId": "51f97d8b-5829-47ca-b5ef-4e30adaf19cd"
      },
      "outputs": [
        {
          "output_type": "display_data",
          "data": {
            "text/plain": [
              "<Figure size 432x288 with 1 Axes>"
            ],
            "image/png": "[encoded data removed]"
          },
          "metadata": {
            "needs_background": "light"
          }
        },
        {
          "output_type": "display_data",
          "data": {
            "text/plain": [
              "<Figure size 432x288 with 1 Axes>"
            ],
            "image/png": "[encoded data removed]"
          },
          "metadata": {
            "needs_background": "light"
          }
        }
      ],
      "source": [
        "import matplotlib.pyplot as plt\n",
        "accuracy = history.history['accuracy']\n",
        "val_accuracy = history.history['val_accuracy']\n",
        "loss = history.history['loss']\n",
        "val_loss = history.history['val_loss']\n",
        "epochs = range(len(accuracy))\n",
        "\n",
        "plt.plot(epochs, accuracy, \"b\", label=\"trainning accuracy\")\n",
        "plt.plot(epochs, val_accuracy, \"r\", label=\"validation accuracy\")\n",
        "plt.legend()\n",
        "plt.show()\n",
        "\n",
        "plt.plot(epochs, loss, \"b\", label=\"trainning loss\")\n",
        "plt.plot(epochs, val_loss, \"r\", label=\"validation loss\")\n",
        "plt.legend()\n",
        "plt.show()"
      ]
    },
    {
      "cell_type": "code",
      "execution_count": 7,
      "metadata": {
        "colab": {
          "base_uri": "https://localhost:8080/",
          "height": 182
        },
        "id": "IyzXgp8z_9MF",
        "outputId": "a6f45f80-f1b9-4ade-d20d-e629001163ef"
      },
      "outputs": [
        {
          "output_type": "error",
          "ename": "NameError",
          "evalue": "ignored",
          "traceback": [
            "\u001b[0;31m---------------------------------------------------------------------------\u001b[0m",
            "\u001b[0;31mNameError\u001b[0m                                 Traceback (most recent call last)",
            "\u001b[0;32m<ipython-input-7-beca34cebec6>\u001b[0m in \u001b[0;36m<module>\u001b[0;34m\u001b[0m\n\u001b[0;32m----> 1\u001b[0;31m \u001b[0my_pred\u001b[0m \u001b[0;34m=\u001b[0m \u001b[0mmodel\u001b[0m\u001b[0;34m.\u001b[0m\u001b[0mpredict\u001b[0m\u001b[0;34m(\u001b[0m\u001b[0mtest_generator\u001b[0m\u001b[0;34m)\u001b[0m\u001b[0;34m\u001b[0m\u001b[0;34m\u001b[0m\u001b[0m\n\u001b[0m\u001b[1;32m      2\u001b[0m \u001b[0my_pred\u001b[0m\u001b[0;34m\u001b[0m\u001b[0;34m\u001b[0m\u001b[0m\n",
            "\u001b[0;31mNameError\u001b[0m: name 'model' is not defined"
          ]
        }
      ],
      "source": [
        "y_pred = model.predict(test_generator)\n",
        "y_pred"
      ]
    },
    {
      "cell_type": "code",
      "execution_count": null,
      "metadata": {
        "id": "bhPIq8iz_-wv"
      },
      "outputs": [],
      "source": [
        "y_pred = np.argmax(y_pred, axis=1)\n",
        "y_pred"
      ]
    },
    {
      "cell_type": "code",
      "execution_count": null,
      "metadata": {
        "id": "3JNXH1dGAArc"
      },
      "outputs": [],
      "source": [
        "model.save(\"new.model\")"
      ]
    },
    {
      "cell_type": "code",
      "execution_count": null,
      "metadata": {
        "id": "mzLF4Ad5ACTz"
      },
      "outputs": [],
      "source": [
        "import tensorflow as tf\n",
        "category = ['Uninfected', 'Parasitized']\n",
        "def prepare(filepath):\n",
        "    img_array = cv2.imread(filepath, cv2.IMREAD_COLOR)\n",
        "    img_array = img_array / 255\n",
        "    new_array = cv2.resize(img_array, (IMG_SIZE, IMG_SIZE))\n",
        "    return new_array.reshape(-1, IMG_SIZE, IMG_SIZE, 3)\n",
        "\n",
        "model = tf.keras.models.load_model(\"new.model\")"
      ]
    },
    {
      "cell_type": "code",
      "execution_count": null,
      "metadata": {
        "id": "NjYGP-isAEgW"
      },
      "outputs": [],
      "source": [
        "prediction = model.predict([prepare(\"/content/drive/MyDrive/Malaria/cell_images/Uninfected/C100P61ThinF_IMG_20150918_144104_cell_25.png\")])\n",
        "if np.argmax(prediction) == 1:\n",
        "    print(\"Infected\")\n",
        "else:\n",
        "    print(\"Uninfected\")"
      ]
    },
    {
      "cell_type": "code",
      "execution_count": null,
      "metadata": {
        "id": "NzmlfY1bARXg"
      },
      "outputs": [],
      "source": [
        "prediction = model.predict([prepare(\"../input/prediction-images/Malaria-Parasite-Detection-Using-an-SVM-output-5-0 (2).png\")])\n",
        "\n",
        "if np.argmax(prediction) == 1:\n",
        "    print(\"Infected\")\n",
        "else:\n",
        "    print(\"Uninfected\")"
      ]
    },
    {
      "cell_type": "code",
      "execution_count": null,
      "metadata": {
        "id": "_ZWZQH-cAaUU"
      },
      "outputs": [],
      "source": [
        "from sklearn.metrics import classification_report, confusion_matrix, accuracy_score\n",
        "\n",
        "print(classification_report(np.argmax(y_test, axis=1), y_pred, target_names=category))"
      ]
    }
  ],
  "metadata": {
    "accelerator": "GPU",
    "colab": {
      "provenance": [],
      "mount_file_id": "1TM70llytAcZl2F7FNm9b2r0NqvlGTxo_",
      "authorship_tag": "ABX9TyOOoMA2/LWU2LOr+dEgtZDW",
      "include_colab_link": true
    },
    "gpuClass": "standard",
    "kernelspec": {
      "display_name": "Python 3",
      "name": "python3"
    },
    "language_info": {
      "name": "python"
    }
  },
  "nbformat": 4,
  "nbformat_minor": 0
}