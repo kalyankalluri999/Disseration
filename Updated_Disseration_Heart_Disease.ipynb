{
  "nbformat": 4,
  "nbformat_minor": 0,
  "metadata": {
    "colab": {
      "name": "Disseration_Heart_Disease.ipynb",
      "provenance": [],
      "collapsed_sections": [],
      "include_colab_link": true
    },
    "kernelspec": {
      "name": "python3",
      "display_name": "Python 3"
    },
    "language_info": {
      "name": "python"
    }
  },
  "cells": [
    {
      "cell_type": "markdown",
      "metadata": {
        "id": "view-in-github",
        "colab_type": "text"
      },
      "source": [
        "<a href=\"https://colab.research.google.com/github/kalyankalluri999/Disseration/blob/main/Updated_Disseration_Heart_Disease.ipynb\" target=\"_parent\"><img src=\"https://colab.research.google.com/assets/colab-badge.svg\" alt=\"Open In Colab\"/></a>"
      ]
    },
    {
      "cell_type": "markdown",
      "source": [
        "**Importing libraries**"
      ],
      "metadata": {
        "id": "Z1niM3ycMNEV"
      }
    },
    {
      "cell_type": "code",
      "execution_count": 1,
      "metadata": {
        "id": "-ecdR9ziMAtN"
      },
      "outputs": [],
      "source": [
        "import numpy as np\n",
        "import pandas as pd\n",
        "import matplotlib.pyplot as plt"
      ]
    },
    {
      "cell_type": "code",
      "source": [
        "heart_disease = pd.read_csv('Heart.csv')\n",
        "heart_disease.head()"
      ],
      "metadata": {
        "id": "nQzozz2_MX1q",
        "colab": {
          "base_uri": "https://localhost:8080/",
          "height": 205
        },
        "outputId": "5cbb791c-fcbf-4ad2-b6f2-400ac73c9cd3"
      },
      "execution_count": 2,
      "outputs": [
        {
          "output_type": "execute_result",
          "data": {
            "text/plain": [
              "   age  sex  cp  trestbps  chol  fbs  restecg  thalach  exang  oldpeak  slope  \\\n",
              "0   63    1   3       145   233    1        0      150      0      2.3      0   \n",
              "1   37    1   2       130   250    0        1      187      0      3.5      0   \n",
              "2   41    0   1       130   204    0        0      172      0      1.4      2   \n",
              "3   56    1   1       120   236    0        1      178      0      0.8      2   \n",
              "4   57    0   0       120   354    0        1      163      1      0.6      2   \n",
              "\n",
              "   ca  thal  target  \n",
              "0   0     1       1  \n",
              "1   0     2       1  \n",
              "2   0     2       1  \n",
              "3   0     2       1  \n",
              "4   0     2       1  "
            ],
            "text/html": [
              "\n",
              "  <div id=\"df-68733006-8c00-417e-b086-ebf264283ed5\">\n",
              "    <div class=\"colab-df-container\">\n",
              "      <div>\n",
              "<style scoped>\n",
              "    .dataframe tbody tr th:only-of-type {\n",
              "        vertical-align: middle;\n",
              "    }\n",
              "\n",
              "    .dataframe tbody tr th {\n",
              "        vertical-align: top;\n",
              "    }\n",
              "\n",
              "    .dataframe thead th {\n",
              "        text-align: right;\n",
              "    }\n",
              "</style>\n",
              "<table border=\"1\" class=\"dataframe\">\n",
              "  <thead>\n",
              "    <tr style=\"text-align: right;\">\n",
              "      <th></th>\n",
              "      <th>age</th>\n",
              "      <th>sex</th>\n",
              "      <th>cp</th>\n",
              "      <th>trestbps</th>\n",
              "      <th>chol</th>\n",
              "      <th>fbs</th>\n",
              "      <th>restecg</th>\n",
              "      <th>thalach</th>\n",
              "      <th>exang</th>\n",
              "      <th>oldpeak</th>\n",
              "      <th>slope</th>\n",
              "      <th>ca</th>\n",
              "      <th>thal</th>\n",
              "      <th>target</th>\n",
              "    </tr>\n",
              "  </thead>\n",
              "  <tbody>\n",
              "    <tr>\n",
              "      <th>0</th>\n",
              "      <td>63</td>\n",
              "      <td>1</td>\n",
              "      <td>3</td>\n",
              "      <td>145</td>\n",
              "      <td>233</td>\n",
              "      <td>1</td>\n",
              "      <td>0</td>\n",
              "      <td>150</td>\n",
              "      <td>0</td>\n",
              "      <td>2.3</td>\n",
              "      <td>0</td>\n",
              "      <td>0</td>\n",
              "      <td>1</td>\n",
              "      <td>1</td>\n",
              "    </tr>\n",
              "    <tr>\n",
              "      <th>1</th>\n",
              "      <td>37</td>\n",
              "      <td>1</td>\n",
              "      <td>2</td>\n",
              "      <td>130</td>\n",
              "      <td>250</td>\n",
              "      <td>0</td>\n",
              "      <td>1</td>\n",
              "      <td>187</td>\n",
              "      <td>0</td>\n",
              "      <td>3.5</td>\n",
              "      <td>0</td>\n",
              "      <td>0</td>\n",
              "      <td>2</td>\n",
              "      <td>1</td>\n",
              "    </tr>\n",
              "    <tr>\n",
              "      <th>2</th>\n",
              "      <td>41</td>\n",
              "      <td>0</td>\n",
              "      <td>1</td>\n",
              "      <td>130</td>\n",
              "      <td>204</td>\n",
              "      <td>0</td>\n",
              "      <td>0</td>\n",
              "      <td>172</td>\n",
              "      <td>0</td>\n",
              "      <td>1.4</td>\n",
              "      <td>2</td>\n",
              "      <td>0</td>\n",
              "      <td>2</td>\n",
              "      <td>1</td>\n",
              "    </tr>\n",
              "    <tr>\n",
              "      <th>3</th>\n",
              "      <td>56</td>\n",
              "      <td>1</td>\n",
              "      <td>1</td>\n",
              "      <td>120</td>\n",
              "      <td>236</td>\n",
              "      <td>0</td>\n",
              "      <td>1</td>\n",
              "      <td>178</td>\n",
              "      <td>0</td>\n",
              "      <td>0.8</td>\n",
              "      <td>2</td>\n",
              "      <td>0</td>\n",
              "      <td>2</td>\n",
              "      <td>1</td>\n",
              "    </tr>\n",
              "    <tr>\n",
              "      <th>4</th>\n",
              "      <td>57</td>\n",
              "      <td>0</td>\n",
              "      <td>0</td>\n",
              "      <td>120</td>\n",
              "      <td>354</td>\n",
              "      <td>0</td>\n",
              "      <td>1</td>\n",
              "      <td>163</td>\n",
              "      <td>1</td>\n",
              "      <td>0.6</td>\n",
              "      <td>2</td>\n",
              "      <td>0</td>\n",
              "      <td>2</td>\n",
              "      <td>1</td>\n",
              "    </tr>\n",
              "  </tbody>\n",
              "</table>\n",
              "</div>\n",
              "      <button class=\"colab-df-convert\" onclick=\"convertToInteractive('df-68733006-8c00-417e-b086-ebf264283ed5')\"\n",
              "              title=\"Convert this dataframe to an interactive table.\"\n",
              "              style=\"display:none;\">\n",
              "        \n",
              "  <svg xmlns=\"http://www.w3.org/2000/svg\" height=\"24px\"viewBox=\"0 0 24 24\"\n",
              "       width=\"24px\">\n",
              "    <path d=\"M0 0h24v24H0V0z\" fill=\"none\"/>\n",
              "    <path d=\"M18.56 5.44l.94 2.06.94-2.06 2.06-.94-2.06-.94-.94-2.06-.94 2.06-2.06.94zm-11 1L8.5 8.5l.94-2.06 2.06-.94-2.06-.94L8.5 2.5l-.94 2.06-2.06.94zm10 10l.94 2.06.94-2.06 2.06-.94-2.06-.94-.94-2.06-.94 2.06-2.06.94z\"/><path d=\"M17.41 7.96l-1.37-1.37c-.4-.4-.92-.59-1.43-.59-.52 0-1.04.2-1.43.59L10.3 9.45l-7.72 7.72c-.78.78-.78 2.05 0 2.83L4 21.41c.39.39.9.59 1.41.59.51 0 1.02-.2 1.41-.59l7.78-7.78 2.81-2.81c.8-.78.8-2.07 0-2.86zM5.41 20L4 18.59l7.72-7.72 1.47 1.35L5.41 20z\"/>\n",
              "  </svg>\n",
              "      </button>\n",
              "      \n",
              "  <style>\n",
              "    .colab-df-container {\n",
              "      display:flex;\n",
              "      flex-wrap:wrap;\n",
              "      gap: 12px;\n",
              "    }\n",
              "\n",
              "    .colab-df-convert {\n",
              "      background-color: #E8F0FE;\n",
              "      border: none;\n",
              "      border-radius: 50%;\n",
              "      cursor: pointer;\n",
              "      display: none;\n",
              "      fill: #1967D2;\n",
              "      height: 32px;\n",
              "      padding: 0 0 0 0;\n",
              "      width: 32px;\n",
              "    }\n",
              "\n",
              "    .colab-df-convert:hover {\n",
              "      background-color: #E2EBFA;\n",
              "      box-shadow: 0px 1px 2px rgba(60, 64, 67, 0.3), 0px 1px 3px 1px rgba(60, 64, 67, 0.15);\n",
              "      fill: #174EA6;\n",
              "    }\n",
              "\n",
              "    [theme=dark] .colab-df-convert {\n",
              "      background-color: #3B4455;\n",
              "      fill: #D2E3FC;\n",
              "    }\n",
              "\n",
              "    [theme=dark] .colab-df-convert:hover {\n",
              "      background-color: #434B5C;\n",
              "      box-shadow: 0px 1px 3px 1px rgba(0, 0, 0, 0.15);\n",
              "      filter: drop-shadow(0px 1px 2px rgba(0, 0, 0, 0.3));\n",
              "      fill: #FFFFFF;\n",
              "    }\n",
              "  </style>\n",
              "\n",
              "      <script>\n",
              "        const buttonEl =\n",
              "          document.querySelector('#df-68733006-8c00-417e-b086-ebf264283ed5 button.colab-df-convert');\n",
              "        buttonEl.style.display =\n",
              "          google.colab.kernel.accessAllowed ? 'block' : 'none';\n",
              "\n",
              "        async function convertToInteractive(key) {\n",
              "          const element = document.querySelector('#df-68733006-8c00-417e-b086-ebf264283ed5');\n",
              "          const dataTable =\n",
              "            await google.colab.kernel.invokeFunction('convertToInteractive',\n",
              "                                                     [key], {});\n",
              "          if (!dataTable) return;\n",
              "\n",
              "          const docLinkHtml = 'Like what you see? Visit the ' +\n",
              "            '<a target=\"_blank\" href=https://colab.research.google.com/notebooks/data_table.ipynb>data table notebook</a>'\n",
              "            + ' to learn more about interactive tables.';\n",
              "          element.innerHTML = '';\n",
              "          dataTable['output_type'] = 'display_data';\n",
              "          await google.colab.output.renderOutput(dataTable, element);\n",
              "          const docLink = document.createElement('div');\n",
              "          docLink.innerHTML = docLinkHtml;\n",
              "          element.appendChild(docLink);\n",
              "        }\n",
              "      </script>\n",
              "    </div>\n",
              "  </div>\n",
              "  "
            ]
          },
          "metadata": {},
          "execution_count": 2
        }
      ]
    },
    {
      "cell_type": "code",
      "source": [
        "print(\"The heart disease data has {} data points\".format(heart_disease.shape[0]))\n",
        "print(\"The heart disease data has {} features\".format(heart_disease.shape[1]))"
      ],
      "metadata": {
        "colab": {
          "base_uri": "https://localhost:8080/"
        },
        "id": "OMx8EMo1MnT-",
        "outputId": "6ab3faca-7887-4139-9569-f83ea4fac242"
      },
      "execution_count": 3,
      "outputs": [
        {
          "output_type": "stream",
          "name": "stdout",
          "text": [
            "The heart disease data has 303 data points\n",
            "The heart disease data has 14 features\n"
          ]
        }
      ]
    },
    {
      "cell_type": "code",
      "source": [
        "heart_disease.info()"
      ],
      "metadata": {
        "colab": {
          "base_uri": "https://localhost:8080/"
        },
        "id": "OGUQl8fyMv9K",
        "outputId": "04558467-23f1-4434-f4ef-79cd5602c49c"
      },
      "execution_count": 4,
      "outputs": [
        {
          "output_type": "stream",
          "name": "stdout",
          "text": [
            "<class 'pandas.core.frame.DataFrame'>\n",
            "RangeIndex: 303 entries, 0 to 302\n",
            "Data columns (total 14 columns):\n",
            " #   Column    Non-Null Count  Dtype  \n",
            "---  ------    --------------  -----  \n",
            " 0   age       303 non-null    int64  \n",
            " 1   sex       303 non-null    int64  \n",
            " 2   cp        303 non-null    int64  \n",
            " 3   trestbps  303 non-null    int64  \n",
            " 4   chol      303 non-null    int64  \n",
            " 5   fbs       303 non-null    int64  \n",
            " 6   restecg   303 non-null    int64  \n",
            " 7   thalach   303 non-null    int64  \n",
            " 8   exang     303 non-null    int64  \n",
            " 9   oldpeak   303 non-null    float64\n",
            " 10  slope     303 non-null    int64  \n",
            " 11  ca        303 non-null    int64  \n",
            " 12  thal      303 non-null    int64  \n",
            " 13  target    303 non-null    int64  \n",
            "dtypes: float64(1), int64(13)\n",
            "memory usage: 33.3 KB\n"
          ]
        }
      ]
    },
    {
      "cell_type": "code",
      "source": [
        "heart_disease.describe()"
      ],
      "metadata": {
        "colab": {
          "base_uri": "https://localhost:8080/",
          "height": 299
        },
        "id": "TWrqFArhM119",
        "outputId": "ae20e65c-d930-416c-be93-42003be419af"
      },
      "execution_count": 5,
      "outputs": [
        {
          "output_type": "execute_result",
          "data": {
            "text/plain": [
              "              age         sex          cp    trestbps        chol         fbs  \\\n",
              "count  303.000000  303.000000  303.000000  303.000000  303.000000  303.000000   \n",
              "mean    54.366337    0.683168    0.966997  131.623762  246.264026    0.148515   \n",
              "std      9.082101    0.466011    1.032052   17.538143   51.830751    0.356198   \n",
              "min     29.000000    0.000000    0.000000   94.000000  126.000000    0.000000   \n",
              "25%     47.500000    0.000000    0.000000  120.000000  211.000000    0.000000   \n",
              "50%     55.000000    1.000000    1.000000  130.000000  240.000000    0.000000   \n",
              "75%     61.000000    1.000000    2.000000  140.000000  274.500000    0.000000   \n",
              "max     77.000000    1.000000    3.000000  200.000000  564.000000    1.000000   \n",
              "\n",
              "          restecg     thalach       exang     oldpeak       slope          ca  \\\n",
              "count  303.000000  303.000000  303.000000  303.000000  303.000000  303.000000   \n",
              "mean     0.528053  149.646865    0.326733    1.039604    1.399340    0.729373   \n",
              "std      0.525860   22.905161    0.469794    1.161075    0.616226    1.022606   \n",
              "min      0.000000   71.000000    0.000000    0.000000    0.000000    0.000000   \n",
              "25%      0.000000  133.500000    0.000000    0.000000    1.000000    0.000000   \n",
              "50%      1.000000  153.000000    0.000000    0.800000    1.000000    0.000000   \n",
              "75%      1.000000  166.000000    1.000000    1.600000    2.000000    1.000000   \n",
              "max      2.000000  202.000000    1.000000    6.200000    2.000000    4.000000   \n",
              "\n",
              "             thal      target  \n",
              "count  303.000000  303.000000  \n",
              "mean     2.313531    0.544554  \n",
              "std      0.612277    0.498835  \n",
              "min      0.000000    0.000000  \n",
              "25%      2.000000    0.000000  \n",
              "50%      2.000000    1.000000  \n",
              "75%      3.000000    1.000000  \n",
              "max      3.000000    1.000000  "
            ],
            "text/html": [
              "\n",
              "  <div id=\"df-fe856b83-d347-4c69-b984-0fb2e1b9c80b\">\n",
              "    <div class=\"colab-df-container\">\n",
              "      <div>\n",
              "<style scoped>\n",
              "    .dataframe tbody tr th:only-of-type {\n",
              "        vertical-align: middle;\n",
              "    }\n",
              "\n",
              "    .dataframe tbody tr th {\n",
              "        vertical-align: top;\n",
              "    }\n",
              "\n",
              "    .dataframe thead th {\n",
              "        text-align: right;\n",
              "    }\n",
              "</style>\n",
              "<table border=\"1\" class=\"dataframe\">\n",
              "  <thead>\n",
              "    <tr style=\"text-align: right;\">\n",
              "      <th></th>\n",
              "      <th>age</th>\n",
              "      <th>sex</th>\n",
              "      <th>cp</th>\n",
              "      <th>trestbps</th>\n",
              "      <th>chol</th>\n",
              "      <th>fbs</th>\n",
              "      <th>restecg</th>\n",
              "      <th>thalach</th>\n",
              "      <th>exang</th>\n",
              "      <th>oldpeak</th>\n",
              "      <th>slope</th>\n",
              "      <th>ca</th>\n",
              "      <th>thal</th>\n",
              "      <th>target</th>\n",
              "    </tr>\n",
              "  </thead>\n",
              "  <tbody>\n",
              "    <tr>\n",
              "      <th>count</th>\n",
              "      <td>303.000000</td>\n",
              "      <td>303.000000</td>\n",
              "      <td>303.000000</td>\n",
              "      <td>303.000000</td>\n",
              "      <td>303.000000</td>\n",
              "      <td>303.000000</td>\n",
              "      <td>303.000000</td>\n",
              "      <td>303.000000</td>\n",
              "      <td>303.000000</td>\n",
              "      <td>303.000000</td>\n",
              "      <td>303.000000</td>\n",
              "      <td>303.000000</td>\n",
              "      <td>303.000000</td>\n",
              "      <td>303.000000</td>\n",
              "    </tr>\n",
              "    <tr>\n",
              "      <th>mean</th>\n",
              "      <td>54.366337</td>\n",
              "      <td>0.683168</td>\n",
              "      <td>0.966997</td>\n",
              "      <td>131.623762</td>\n",
              "      <td>246.264026</td>\n",
              "      <td>0.148515</td>\n",
              "      <td>0.528053</td>\n",
              "      <td>149.646865</td>\n",
              "      <td>0.326733</td>\n",
              "      <td>1.039604</td>\n",
              "      <td>1.399340</td>\n",
              "      <td>0.729373</td>\n",
              "      <td>2.313531</td>\n",
              "      <td>0.544554</td>\n",
              "    </tr>\n",
              "    <tr>\n",
              "      <th>std</th>\n",
              "      <td>9.082101</td>\n",
              "      <td>0.466011</td>\n",
              "      <td>1.032052</td>\n",
              "      <td>17.538143</td>\n",
              "      <td>51.830751</td>\n",
              "      <td>0.356198</td>\n",
              "      <td>0.525860</td>\n",
              "      <td>22.905161</td>\n",
              "      <td>0.469794</td>\n",
              "      <td>1.161075</td>\n",
              "      <td>0.616226</td>\n",
              "      <td>1.022606</td>\n",
              "      <td>0.612277</td>\n",
              "      <td>0.498835</td>\n",
              "    </tr>\n",
              "    <tr>\n",
              "      <th>min</th>\n",
              "      <td>29.000000</td>\n",
              "      <td>0.000000</td>\n",
              "      <td>0.000000</td>\n",
              "      <td>94.000000</td>\n",
              "      <td>126.000000</td>\n",
              "      <td>0.000000</td>\n",
              "      <td>0.000000</td>\n",
              "      <td>71.000000</td>\n",
              "      <td>0.000000</td>\n",
              "      <td>0.000000</td>\n",
              "      <td>0.000000</td>\n",
              "      <td>0.000000</td>\n",
              "      <td>0.000000</td>\n",
              "      <td>0.000000</td>\n",
              "    </tr>\n",
              "    <tr>\n",
              "      <th>25%</th>\n",
              "      <td>47.500000</td>\n",
              "      <td>0.000000</td>\n",
              "      <td>0.000000</td>\n",
              "      <td>120.000000</td>\n",
              "      <td>211.000000</td>\n",
              "      <td>0.000000</td>\n",
              "      <td>0.000000</td>\n",
              "      <td>133.500000</td>\n",
              "      <td>0.000000</td>\n",
              "      <td>0.000000</td>\n",
              "      <td>1.000000</td>\n",
              "      <td>0.000000</td>\n",
              "      <td>2.000000</td>\n",
              "      <td>0.000000</td>\n",
              "    </tr>\n",
              "    <tr>\n",
              "      <th>50%</th>\n",
              "      <td>55.000000</td>\n",
              "      <td>1.000000</td>\n",
              "      <td>1.000000</td>\n",
              "      <td>130.000000</td>\n",
              "      <td>240.000000</td>\n",
              "      <td>0.000000</td>\n",
              "      <td>1.000000</td>\n",
              "      <td>153.000000</td>\n",
              "      <td>0.000000</td>\n",
              "      <td>0.800000</td>\n",
              "      <td>1.000000</td>\n",
              "      <td>0.000000</td>\n",
              "      <td>2.000000</td>\n",
              "      <td>1.000000</td>\n",
              "    </tr>\n",
              "    <tr>\n",
              "      <th>75%</th>\n",
              "      <td>61.000000</td>\n",
              "      <td>1.000000</td>\n",
              "      <td>2.000000</td>\n",
              "      <td>140.000000</td>\n",
              "      <td>274.500000</td>\n",
              "      <td>0.000000</td>\n",
              "      <td>1.000000</td>\n",
              "      <td>166.000000</td>\n",
              "      <td>1.000000</td>\n",
              "      <td>1.600000</td>\n",
              "      <td>2.000000</td>\n",
              "      <td>1.000000</td>\n",
              "      <td>3.000000</td>\n",
              "      <td>1.000000</td>\n",
              "    </tr>\n",
              "    <tr>\n",
              "      <th>max</th>\n",
              "      <td>77.000000</td>\n",
              "      <td>1.000000</td>\n",
              "      <td>3.000000</td>\n",
              "      <td>200.000000</td>\n",
              "      <td>564.000000</td>\n",
              "      <td>1.000000</td>\n",
              "      <td>2.000000</td>\n",
              "      <td>202.000000</td>\n",
              "      <td>1.000000</td>\n",
              "      <td>6.200000</td>\n",
              "      <td>2.000000</td>\n",
              "      <td>4.000000</td>\n",
              "      <td>3.000000</td>\n",
              "      <td>1.000000</td>\n",
              "    </tr>\n",
              "  </tbody>\n",
              "</table>\n",
              "</div>\n",
              "      <button class=\"colab-df-convert\" onclick=\"convertToInteractive('df-fe856b83-d347-4c69-b984-0fb2e1b9c80b')\"\n",
              "              title=\"Convert this dataframe to an interactive table.\"\n",
              "              style=\"display:none;\">\n",
              "        \n",
              "  <svg xmlns=\"http://www.w3.org/2000/svg\" height=\"24px\"viewBox=\"0 0 24 24\"\n",
              "       width=\"24px\">\n",
              "    <path d=\"M0 0h24v24H0V0z\" fill=\"none\"/>\n",
              "    <path d=\"M18.56 5.44l.94 2.06.94-2.06 2.06-.94-2.06-.94-.94-2.06-.94 2.06-2.06.94zm-11 1L8.5 8.5l.94-2.06 2.06-.94-2.06-.94L8.5 2.5l-.94 2.06-2.06.94zm10 10l.94 2.06.94-2.06 2.06-.94-2.06-.94-.94-2.06-.94 2.06-2.06.94z\"/><path d=\"M17.41 7.96l-1.37-1.37c-.4-.4-.92-.59-1.43-.59-.52 0-1.04.2-1.43.59L10.3 9.45l-7.72 7.72c-.78.78-.78 2.05 0 2.83L4 21.41c.39.39.9.59 1.41.59.51 0 1.02-.2 1.41-.59l7.78-7.78 2.81-2.81c.8-.78.8-2.07 0-2.86zM5.41 20L4 18.59l7.72-7.72 1.47 1.35L5.41 20z\"/>\n",
              "  </svg>\n",
              "      </button>\n",
              "      \n",
              "  <style>\n",
              "    .colab-df-container {\n",
              "      display:flex;\n",
              "      flex-wrap:wrap;\n",
              "      gap: 12px;\n",
              "    }\n",
              "\n",
              "    .colab-df-convert {\n",
              "      background-color: #E8F0FE;\n",
              "      border: none;\n",
              "      border-radius: 50%;\n",
              "      cursor: pointer;\n",
              "      display: none;\n",
              "      fill: #1967D2;\n",
              "      height: 32px;\n",
              "      padding: 0 0 0 0;\n",
              "      width: 32px;\n",
              "    }\n",
              "\n",
              "    .colab-df-convert:hover {\n",
              "      background-color: #E2EBFA;\n",
              "      box-shadow: 0px 1px 2px rgba(60, 64, 67, 0.3), 0px 1px 3px 1px rgba(60, 64, 67, 0.15);\n",
              "      fill: #174EA6;\n",
              "    }\n",
              "\n",
              "    [theme=dark] .colab-df-convert {\n",
              "      background-color: #3B4455;\n",
              "      fill: #D2E3FC;\n",
              "    }\n",
              "\n",
              "    [theme=dark] .colab-df-convert:hover {\n",
              "      background-color: #434B5C;\n",
              "      box-shadow: 0px 1px 3px 1px rgba(0, 0, 0, 0.15);\n",
              "      filter: drop-shadow(0px 1px 2px rgba(0, 0, 0, 0.3));\n",
              "      fill: #FFFFFF;\n",
              "    }\n",
              "  </style>\n",
              "\n",
              "      <script>\n",
              "        const buttonEl =\n",
              "          document.querySelector('#df-fe856b83-d347-4c69-b984-0fb2e1b9c80b button.colab-df-convert');\n",
              "        buttonEl.style.display =\n",
              "          google.colab.kernel.accessAllowed ? 'block' : 'none';\n",
              "\n",
              "        async function convertToInteractive(key) {\n",
              "          const element = document.querySelector('#df-fe856b83-d347-4c69-b984-0fb2e1b9c80b');\n",
              "          const dataTable =\n",
              "            await google.colab.kernel.invokeFunction('convertToInteractive',\n",
              "                                                     [key], {});\n",
              "          if (!dataTable) return;\n",
              "\n",
              "          const docLinkHtml = 'Like what you see? Visit the ' +\n",
              "            '<a target=\"_blank\" href=https://colab.research.google.com/notebooks/data_table.ipynb>data table notebook</a>'\n",
              "            + ' to learn more about interactive tables.';\n",
              "          element.innerHTML = '';\n",
              "          dataTable['output_type'] = 'display_data';\n",
              "          await google.colab.output.renderOutput(dataTable, element);\n",
              "          const docLink = document.createElement('div');\n",
              "          docLink.innerHTML = docLinkHtml;\n",
              "          element.appendChild(docLink);\n",
              "        }\n",
              "      </script>\n",
              "    </div>\n",
              "  </div>\n",
              "  "
            ]
          },
          "metadata": {},
          "execution_count": 5
        }
      ]
    },
    {
      "cell_type": "code",
      "source": [
        "heart_disease.isnull().sum()"
      ],
      "metadata": {
        "colab": {
          "base_uri": "https://localhost:8080/"
        },
        "id": "z63juoZ_M5go",
        "outputId": "ecfb6567-0dca-48a6-9af5-c8841bfb908d"
      },
      "execution_count": 6,
      "outputs": [
        {
          "output_type": "execute_result",
          "data": {
            "text/plain": [
              "age         0\n",
              "sex         0\n",
              "cp          0\n",
              "trestbps    0\n",
              "chol        0\n",
              "fbs         0\n",
              "restecg     0\n",
              "thalach     0\n",
              "exang       0\n",
              "oldpeak     0\n",
              "slope       0\n",
              "ca          0\n",
              "thal        0\n",
              "target      0\n",
              "dtype: int64"
            ]
          },
          "metadata": {},
          "execution_count": 6
        }
      ]
    },
    {
      "cell_type": "code",
      "source": [
        "import seaborn as sns\n",
        "import matplotlib.pyplot as plt\n",
        "plt.figure(figsize=(12,9)) \n",
        "sns.heatmap(heart_disease.isna(), cmap='YlGn')\n",
        "plt.title(\"Missing Values\") \n",
        "plt.show()"
      ],
      "metadata": {
        "colab": {
          "base_uri": "https://localhost:8080/",
          "height": 552
        },
        "id": "_AeswHkbM-a-",
        "outputId": "943413d5-44c0-4ce5-a77f-798539289365"
      },
      "execution_count": 7,
      "outputs": [
        {
          "output_type": "display_data",
          "data": {
            "text/plain": [
              "<Figure size 864x648 with 2 Axes>"
            ],
            "image/png": "[encoded data removed]"
          },
          "metadata": {
            "needs_background": "light"
          }
        }
      ]
    },
    {
      "cell_type": "code",
      "source": [
        "heart_disease['target'] = np.where(heart_disease['target']==True, 1, 0)\n",
        "plt.figure(figsize=(12,10))\n",
        "sns.heatmap(heart_disease.corr(), annot=True, cmap='twilight_shifted')\n",
        "plt.title(\"Feature Correlation Map\")\n",
        "plt.show()"
      ],
      "metadata": {
        "colab": {
          "base_uri": "https://localhost:8080/",
          "height": 606
        },
        "id": "BejDV2S7REo-",
        "outputId": "a212121f-0410-48b7-bb87-88ac5c0ae750"
      },
      "execution_count": 8,
      "outputs": [
        {
          "output_type": "display_data",
          "data": {
            "text/plain": [
              "<Figure size 864x720 with 2 Axes>"
            ],
            "image/png": "[encoded data removed]"
          },
          "metadata": {
            "needs_background": "light"
          }
        }
      ]
    },
    {
      "cell_type": "code",
      "source": [
        "heart_disease['target'].value_counts()"
      ],
      "metadata": {
        "colab": {
          "base_uri": "https://localhost:8080/"
        },
        "id": "kg9gPzKuNZs5",
        "outputId": "f2e3c474-2285-4e4b-fa4b-9a1ded844a1d"
      },
      "execution_count": 9,
      "outputs": [
        {
          "output_type": "execute_result",
          "data": {
            "text/plain": [
              "1    165\n",
              "0    138\n",
              "Name: target, dtype: int64"
            ]
          },
          "metadata": {},
          "execution_count": 9
        }
      ]
    },
    {
      "cell_type": "markdown",
      "source": [
        "The Target Column has two outcomes **1** and **0**\n",
        "\n",
        "Where \n",
        "\n",
        "**1 - Repersents Defective Heart**\n",
        "\n",
        "**0 -  Healthy Heart**\n"
      ],
      "metadata": {
        "id": "CVgA1jfgN6dR"
      }
    },
    {
      "cell_type": "markdown",
      "source": [
        "**Data Pre-Processing**"
      ],
      "metadata": {
        "id": "tt_2sm_ROX0k"
      }
    },
    {
      "cell_type": "code",
      "source": [
        "M = heart_disease.drop(columns='target', axis=1)\n",
        "n = heart_disease['target']"
      ],
      "metadata": {
        "id": "lrmBhJmaOUaS"
      },
      "execution_count": 10,
      "outputs": []
    },
    {
      "cell_type": "code",
      "source": [
        "M.shape"
      ],
      "metadata": {
        "colab": {
          "base_uri": "https://localhost:8080/"
        },
        "id": "R3UvBfo3OieV",
        "outputId": "5c5c907a-5041-4926-f4ef-9b191cf8b571"
      },
      "execution_count": 11,
      "outputs": [
        {
          "output_type": "execute_result",
          "data": {
            "text/plain": [
              "(303, 13)"
            ]
          },
          "metadata": {},
          "execution_count": 11
        }
      ]
    },
    {
      "cell_type": "code",
      "source": [
        "n.shape"
      ],
      "metadata": {
        "colab": {
          "base_uri": "https://localhost:8080/"
        },
        "id": "3ahMvpWaOlOj",
        "outputId": "9b4cb82c-a592-4f2d-f717-e03f0c868625"
      },
      "execution_count": 12,
      "outputs": [
        {
          "output_type": "execute_result",
          "data": {
            "text/plain": [
              "(303,)"
            ]
          },
          "metadata": {},
          "execution_count": 12
        }
      ]
    },
    {
      "cell_type": "code",
      "source": [
        "# Using sklearn library we are importing the train_test_split module which can help to split data equally in to train and test data\n",
        "\n",
        "from sklearn.model_selection import train_test_split\n",
        "x_train,x_test,y_train,y_test = train_test_split(M, n, test_size=0.30, random_state=0)"
      ],
      "metadata": {
        "id": "CK1ulKEiOsKT"
      },
      "execution_count": 13,
      "outputs": []
    },
    {
      "cell_type": "markdown",
      "source": [
        "**Model Implementation**"
      ],
      "metadata": {
        "id": "MrfX4fojO6Qu"
      }
    },
    {
      "cell_type": "markdown",
      "source": [
        "**Logistic Regression**"
      ],
      "metadata": {
        "id": "RNAIZjRSNtM_"
      }
    },
    {
      "cell_type": "code",
      "source": [
        "# Using sklearn library have imported logistic  regression alogorithm \n",
        "\n",
        "from sklearn.linear_model import LogisticRegression\n",
        "\n",
        "from sklearn.metrics import accuracy_score\n",
        "\n",
        "LR_al = LogisticRegression()\n",
        "\n",
        "# training the LogisticRegression model with Training data\n",
        "\n",
        "LR_al.fit(x_train, y_train)"
      ],
      "metadata": {
        "id": "bcNowKHzO5Ud",
        "outputId": "e5d12389-3e15-41c3-d49b-31c1447da45a",
        "colab": {
          "base_uri": "https://localhost:8080/"
        }
      },
      "execution_count": 14,
      "outputs": [
        {
          "output_type": "stream",
          "name": "stderr",
          "text": [
            "/usr/local/lib/python3.7/dist-packages/sklearn/linear_model/_logistic.py:818: ConvergenceWarning: lbfgs failed to converge (status=1):\n",
            "STOP: TOTAL NO. of ITERATIONS REACHED LIMIT.\n",
            "\n",
            "Increase the number of iterations (max_iter) or scale the data as shown in:\n",
            "    https://scikit-learn.org/stable/modules/preprocessing.html\n",
            "Please also refer to the documentation for alternative solver options:\n",
            "    https://scikit-learn.org/stable/modules/linear_model.html#logistic-regression\n",
            "  extra_warning_msg=_LOGISTIC_SOLVER_CONVERGENCE_MSG,\n"
          ]
        },
        {
          "output_type": "execute_result",
          "data": {
            "text/plain": [
              "LogisticRegression()"
            ]
          },
          "metadata": {},
          "execution_count": 14
        }
      ]
    },
    {
      "cell_type": "code",
      "source": [
        "# accuracy on training data\n",
        "LR_Pred = LR_al.predict(x_train)\n",
        "training_data_accuracy = accuracy_score(LR_Pred, y_train)\n",
        "print('Accuracy on the Training data is : ', training_data_accuracy)"
      ],
      "metadata": {
        "id": "CWNkrl_0OK67",
        "outputId": "a5c98447-c29e-4d68-970d-96d4f94ed13d",
        "colab": {
          "base_uri": "https://localhost:8080/"
        }
      },
      "execution_count": 15,
      "outputs": [
        {
          "output_type": "stream",
          "name": "stdout",
          "text": [
            "Accuracy on the Training data is :  0.8679245283018868\n"
          ]
        }
      ]
    },
    {
      "cell_type": "code",
      "source": [
        "# accuracy on test data\n",
        "LR_test_prediction = LR_al.predict(x_test)\n",
        "test_data_accuracy = accuracy_score(LR_test_prediction, y_test)\n",
        "print('Accuracy on Test data : ', test_data_accuracy)"
      ],
      "metadata": {
        "id": "ZlmPL2Q4OgWV",
        "outputId": "8cb4aff1-1b4d-478b-a3cc-92576b63f29f",
        "colab": {
          "base_uri": "https://localhost:8080/"
        }
      },
      "execution_count": 16,
      "outputs": [
        {
          "output_type": "stream",
          "name": "stdout",
          "text": [
            "Accuracy on Test data :  0.8351648351648352\n"
          ]
        }
      ]
    },
    {
      "cell_type": "code",
      "source": [
        "#using sklearn library we are importing perfomance metrics like \"accuracy\", \"precision\", \"F1\", \"Recall\" and \"Confusion matrix\"\n",
        "\n",
        "from sklearn.metrics import accuracy_score, confusion_matrix, classification_report\n",
        "\n",
        "print(accuracy_score(y_train, LR_al.predict(x_train)))\n",
        "\n",
        "logistic_regression_accuracy = accuracy_score(y_test, LR_al.predict(x_test))\n",
        "\n",
        "print(logistic_regression_accuracy)"
      ],
      "metadata": {
        "id": "gSUAtpWhPWMf",
        "outputId": "6fb0bc6a-1590-4bde-e702-739655fc6e6f",
        "colab": {
          "base_uri": "https://localhost:8080/"
        }
      },
      "execution_count": 17,
      "outputs": [
        {
          "output_type": "stream",
          "name": "stdout",
          "text": [
            "0.8679245283018868\n",
            "0.8351648351648352\n"
          ]
        }
      ]
    },
    {
      "cell_type": "code",
      "source": [
        "# confusion matrix\n",
        "print(confusion_matrix(y_test, LR_test_prediction))"
      ],
      "metadata": {
        "id": "X_nJNjk1PhnH",
        "outputId": "883ccc41-f36c-4c69-ec64-b8ae08f02404",
        "colab": {
          "base_uri": "https://localhost:8080/"
        }
      },
      "execution_count": 18,
      "outputs": [
        {
          "output_type": "stream",
          "name": "stdout",
          "text": [
            "[[33 11]\n",
            " [ 4 43]]\n"
          ]
        }
      ]
    },
    {
      "cell_type": "code",
      "source": [
        "# classification report\n",
        "print(classification_report(y_test, LR_test_prediction))"
      ],
      "metadata": {
        "id": "wZQj5ZkQPrGI",
        "outputId": "1995bbf8-4494-4bec-e65c-871c2445f1ef",
        "colab": {
          "base_uri": "https://localhost:8080/"
        }
      },
      "execution_count": 19,
      "outputs": [
        {
          "output_type": "stream",
          "name": "stdout",
          "text": [
            "              precision    recall  f1-score   support\n",
            "\n",
            "           0       0.89      0.75      0.81        44\n",
            "           1       0.80      0.91      0.85        47\n",
            "\n",
            "    accuracy                           0.84        91\n",
            "   macro avg       0.84      0.83      0.83        91\n",
            "weighted avg       0.84      0.84      0.83        91\n",
            "\n"
          ]
        }
      ]
    },
    {
      "cell_type": "markdown",
      "source": [
        "**SVM**"
      ],
      "metadata": {
        "id": "2p3gAdJKQOle"
      }
    },
    {
      "cell_type": "code",
      "source": [
        "accu = {}\n",
        "\n",
        "from sklearn.svm import SVC\n",
        "\n",
        "SVC_AL = SVC(probability=True)\n",
        "\n",
        "SVC_AL.fit(x_train, y_train)\n",
        "\n",
        "y_predict = SVC_AL.predict(x_test)\n",
        "\n",
        "acc_svc = accuracy_score(y_test,y_predict)\n",
        "\n",
        "accu['SVM']=acc_svc*100\n",
        "\n",
        "print(\"The Training accuracy of the SVC model is:\",accuracy_score(y_train, SVC_AL.predict(x_train))*100,\"%\")\n",
        "\n",
        "print(\"The Testing accuracy of the SVC model is:\",accuracy_score(y_test,y_predict)*100,\"%\")"
      ],
      "metadata": {
        "id": "GkOoLz5RQQmy",
        "outputId": "db4acfa7-e77a-4f12-cda4-407c1988b38a",
        "colab": {
          "base_uri": "https://localhost:8080/"
        }
      },
      "execution_count": 20,
      "outputs": [
        {
          "output_type": "stream",
          "name": "stdout",
          "text": [
            "The Training accuracy of the SVC model is: 66.50943396226415 %\n",
            "The Testing accuracy of the SVC model is: 67.03296703296702 %\n"
          ]
        }
      ]
    },
    {
      "cell_type": "code",
      "source": [
        "print(\"Confusion matrix: \",confusion_matrix(y_test,y_predict))\n",
        "\n",
        "print(\"Classification Report:\",classification_report(y_test,y_predict))"
      ],
      "metadata": {
        "id": "VELPi4_uRMgZ",
        "outputId": "c78b4d5c-5ca4-439e-8d99-028ee2b30480",
        "colab": {
          "base_uri": "https://localhost:8080/"
        }
      },
      "execution_count": 21,
      "outputs": [
        {
          "output_type": "stream",
          "name": "stdout",
          "text": [
            "Confusion matrix:  [[19 25]\n",
            " [ 5 42]]\n",
            "Classification Report:               precision    recall  f1-score   support\n",
            "\n",
            "           0       0.79      0.43      0.56        44\n",
            "           1       0.63      0.89      0.74        47\n",
            "\n",
            "    accuracy                           0.67        91\n",
            "   macro avg       0.71      0.66      0.65        91\n",
            "weighted avg       0.71      0.67      0.65        91\n",
            "\n"
          ]
        }
      ]
    },
    {
      "cell_type": "markdown",
      "source": [
        "**Random Forest**"
      ],
      "metadata": {
        "id": "YRcw1pU6RmYs"
      }
    },
    {
      "cell_type": "code",
      "source": [
        "accuracy = {}\n",
        "\n",
        "from sklearn.ensemble import RandomForestClassifier\n",
        "\n",
        "RF_AL = RandomForestClassifier(criterion = 'gini', max_depth = 7, max_features = 'sqrt', min_samples_leaf = 2, min_samples_split = 4, n_estimators = 180)\n",
        "\n",
        "RF_AL.fit(x_train, y_train)\n",
        "\n",
        "RF_pred = RF_AL.predict(x_test)\n",
        "\n",
        "acc_score =accuracy_score(y_test,RF_pred)\n",
        "\n",
        "accuracy['RF']= acc_score*100\n",
        "\n",
        "print(\" The training accuracy score of the model is:\",accuracy_score(y_train, RF_AL.predict(x_train))*100,\"%\")\n",
        "\n",
        "print(\"The testing accuracy score of the model is:\",accuracy_score(y_test,RF_pred)*100,\"%\")"
      ],
      "metadata": {
        "id": "i6zsOW0qR-ET",
        "outputId": "0b012f91-84ab-4917-8ba6-7cc017e5dc8a",
        "colab": {
          "base_uri": "https://localhost:8080/"
        }
      },
      "execution_count": 22,
      "outputs": [
        {
          "output_type": "stream",
          "name": "stdout",
          "text": [
            " The training accuracy score of the model is: 97.16981132075472 %\n",
            "The testing accuracy score of the model is: 83.51648351648352 %\n"
          ]
        }
      ]
    },
    {
      "cell_type": "code",
      "source": [
        "print(\"Confusion matrix:\",confusion_matrix(y_test,RF_pred))\n",
        "\n",
        "print(\"Classification Report\",classification_report(y_test,RF_pred))"
      ],
      "metadata": {
        "id": "3qNh9tFKSduw",
        "outputId": "6f083cb8-359b-472d-a7d4-c69655c7c368",
        "colab": {
          "base_uri": "https://localhost:8080/"
        }
      },
      "execution_count": 23,
      "outputs": [
        {
          "output_type": "stream",
          "name": "stdout",
          "text": [
            "Confusion matrix: [[33 11]\n",
            " [ 4 43]]\n",
            "Classification Report               precision    recall  f1-score   support\n",
            "\n",
            "           0       0.89      0.75      0.81        44\n",
            "           1       0.80      0.91      0.85        47\n",
            "\n",
            "    accuracy                           0.84        91\n",
            "   macro avg       0.84      0.83      0.83        91\n",
            "weighted avg       0.84      0.84      0.83        91\n",
            "\n"
          ]
        }
      ]
    },
    {
      "cell_type": "markdown",
      "source": [
        "**GBC**"
      ],
      "metadata": {
        "id": "W2ldbdgSTxcl"
      }
    },
    {
      "cell_type": "code",
      "source": [
        "accuracy = {}\n",
        "\n",
        "from sklearn.ensemble import GradientBoostingClassifier\n",
        "\n",
        "GBC = GradientBoostingClassifier()\n",
        "\n",
        "GBC = GradientBoostingClassifier(learning_rate = 0.05, loss = 'deviance', n_estimators = 180)\n",
        "\n",
        "GBC.fit(x_train, y_train)\n",
        "\n",
        "y_gbc_predict = GBC.predict(x_test)\n",
        "\n",
        "ac = accuracy_score(y_test,y_gbc_predict)\n",
        "\n",
        "accuracy = {}['GradientBoosting']=ac*100\n",
        "\n",
        "print(\"Training accuracy score of the model is:\",accuracy_score(y_train, GBC.predict(x_train))*100,\"%\")\n",
        "\n",
        "print(\"Testing accuracy score of the model is:\",accuracy_score(y_test,y_gbc_predict)*100,\"%\")"
      ],
      "metadata": {
        "id": "u8PMKmJwS9T7",
        "outputId": "e9b27ff6-2918-4dbd-c8a0-abce94be52d5",
        "colab": {
          "base_uri": "https://localhost:8080/"
        }
      },
      "execution_count": 24,
      "outputs": [
        {
          "output_type": "stream",
          "name": "stdout",
          "text": [
            "Training accuracy score of the model is: 100.0 %\n",
            "Testing accuracy score of the model is: 79.12087912087912 %\n"
          ]
        }
      ]
    },
    {
      "cell_type": "code",
      "source": [
        "print(\"Confusion matrix:\",confusion_matrix(y_test,y_gbc_predict))\n",
        "\n",
        "print(\"Classification Report\",classification_report(y_test,y_gbc_predict))"
      ],
      "metadata": {
        "id": "MB_EMudhTn-I",
        "outputId": "3f711a3d-fa05-41a2-de04-f4519e985735",
        "colab": {
          "base_uri": "https://localhost:8080/"
        }
      },
      "execution_count": 25,
      "outputs": [
        {
          "output_type": "stream",
          "name": "stdout",
          "text": [
            "Confusion matrix: [[31 13]\n",
            " [ 6 41]]\n",
            "Classification Report               precision    recall  f1-score   support\n",
            "\n",
            "           0       0.84      0.70      0.77        44\n",
            "           1       0.76      0.87      0.81        47\n",
            "\n",
            "    accuracy                           0.79        91\n",
            "   macro avg       0.80      0.79      0.79        91\n",
            "weighted avg       0.80      0.79      0.79        91\n",
            "\n"
          ]
        }
      ]
    },
    {
      "cell_type": "markdown",
      "source": [
        "**XGBOOST**"
      ],
      "metadata": {
        "id": "Haars2tAUC5v"
      }
    },
    {
      "cell_type": "code",
      "source": [
        "from xgboost import XGBClassifier \n",
        "\n",
        "XGB = XGBClassifier(objective = 'binary:logistic', learning_rate = 0.01, max_depth = 5, n_estimators = 180)\n",
        "\n",
        "XGB.fit(x_train, y_train)"
      ],
      "metadata": {
        "id": "ceenHBGiUIWW",
        "outputId": "6e4fce1a-0f16-4f67-e415-c12ec3c562d4",
        "colab": {
          "base_uri": "https://localhost:8080/"
        }
      },
      "execution_count": 26,
      "outputs": [
        {
          "output_type": "execute_result",
          "data": {
            "text/plain": [
              "XGBClassifier(learning_rate=0.01, max_depth=5, n_estimators=180)"
            ]
          },
          "metadata": {},
          "execution_count": 26
        }
      ]
    },
    {
      "cell_type": "code",
      "source": [
        "accuracy = {}\n",
        "\n",
        "XGB_pred = XGB.predict(x_test)\n",
        "\n",
        "ACC =accuracy_score(y_test,XGB_pred)\n",
        "\n",
        "accuracy['XGBoost']= ACC*100\n",
        "\n",
        "print(\"Training accuracy score:\",accuracy_score(y_train, XGB.predict(x_train))*100,\"%\")\n",
        "\n",
        "print(\"Testing accuracy score:\",accuracy_score(y_test,XGB_pred)*100,\"%\")"
      ],
      "metadata": {
        "id": "50eEdMlgUMQs",
        "outputId": "3e4edb27-d5b6-4a14-9593-cbfd642a009d",
        "colab": {
          "base_uri": "https://localhost:8080/"
        }
      },
      "execution_count": 27,
      "outputs": [
        {
          "output_type": "stream",
          "name": "stdout",
          "text": [
            "Training accuracy score: 97.16981132075472 %\n",
            "Testing accuracy score: 80.21978021978022 %\n"
          ]
        }
      ]
    },
    {
      "cell_type": "code",
      "source": [
        "print(\"Confusion matrix:\",confusion_matrix(y_test,XGB_pred))\n",
        "\n",
        "print(\"Classification Report\",classification_report(y_test,XGB_pred))"
      ],
      "metadata": {
        "id": "Lbm6IeykXjh2",
        "outputId": "ba6e26a4-fa6b-4958-dc24-82a32980e01e",
        "colab": {
          "base_uri": "https://localhost:8080/"
        }
      },
      "execution_count": 28,
      "outputs": [
        {
          "output_type": "stream",
          "name": "stdout",
          "text": [
            "Confusion matrix: [[32 12]\n",
            " [ 6 41]]\n",
            "Classification Report               precision    recall  f1-score   support\n",
            "\n",
            "           0       0.84      0.73      0.78        44\n",
            "           1       0.77      0.87      0.82        47\n",
            "\n",
            "    accuracy                           0.80        91\n",
            "   macro avg       0.81      0.80      0.80        91\n",
            "weighted avg       0.81      0.80      0.80        91\n",
            "\n"
          ]
        }
      ]
    },
    {
      "cell_type": "markdown",
      "source": [
        "**KNN**"
      ],
      "metadata": {
        "id": "FiMEPW5QZDOx"
      }
    },
    {
      "cell_type": "code",
      "source": [
        "accuracy = {}\n",
        "\n",
        "from sklearn.neighbors import KNeighborsClassifier\n",
        "\n",
        "KNN_AL =KNeighborsClassifier(n_neighbors=8)\n",
        "\n",
        "KNN_AL.fit(x_train,y_train)\n",
        "\n",
        "KNN_pred = KNN_AL.predict(x_test)\n",
        "\n",
        "ACC=accuracy_score(y_test,KNN_pred)\n",
        "\n",
        "accuracy['KNN']=ACC*100\n",
        "\n",
        "print(\"Training accuracy score of the model is:\",accuracy_score(y_train, KNN_AL.predict(x_train))*100,\"%\")\n",
        "\n",
        "print(\"Testing accuracy score of the model is:\",accuracy_score(y_test,KNN_pred)*100,\"%\")"
      ],
      "metadata": {
        "id": "9L-yX3iYZAN-",
        "outputId": "1dcd06f4-2a4a-40f4-a0a4-1062b5ad3665",
        "colab": {
          "base_uri": "https://localhost:8080/"
        }
      },
      "execution_count": 29,
      "outputs": [
        {
          "output_type": "stream",
          "name": "stdout",
          "text": [
            "Training accuracy score of the model is: 72.16981132075472 %\n",
            "Testing accuracy score of the model is: 70.32967032967034 %\n"
          ]
        }
      ]
    },
    {
      "cell_type": "code",
      "source": [
        "print(\"Confusion matrix of the model\",confusion_matrix(y_test,KNN_pred))\n",
        "\n",
        "print(\"Classification Report\",classification_report(y_test,KNN_pred))"
      ],
      "metadata": {
        "id": "YmAKqFnKZgvR",
        "outputId": "c59531db-3469-4547-ef04-e0202b120bb6",
        "colab": {
          "base_uri": "https://localhost:8080/"
        }
      },
      "execution_count": 30,
      "outputs": [
        {
          "output_type": "stream",
          "name": "stdout",
          "text": [
            "Confusion matrix of the model [[31 13]\n",
            " [14 33]]\n",
            "Classification Report               precision    recall  f1-score   support\n",
            "\n",
            "           0       0.69      0.70      0.70        44\n",
            "           1       0.72      0.70      0.71        47\n",
            "\n",
            "    accuracy                           0.70        91\n",
            "   macro avg       0.70      0.70      0.70        91\n",
            "weighted avg       0.70      0.70      0.70        91\n",
            "\n"
          ]
        }
      ]
    },
    {
      "cell_type": "markdown",
      "source": [
        "**Decision Tree**"
      ],
      "metadata": {
        "id": "52g0PK63ZtW7"
      }
    },
    {
      "cell_type": "code",
      "source": [
        "accuracy = {}\n",
        "\n",
        "from sklearn.tree import DecisionTreeClassifier\n",
        "\n",
        "DT_AL = DecisionTreeClassifier()\n",
        "\n",
        "DT_AL.fit(x_train, y_train)\n",
        "\n",
        "y_dt = DT_AL.predict(x_test)\n",
        "\n",
        "ACCU =accuracy_score(y_test,y_dt)\n",
        "\n",
        "accuracy['DT']=ACCU*100\n",
        "\n",
        "print(\"Training accuracy :\",accuracy_score(y_train, DT_AL.predict(x_train))*100,\"%\")\n",
        "\n",
        "print(\"Testing accuracy :\",accuracy_score(y_test,y_dt)*100,\"%\")"
      ],
      "metadata": {
        "id": "lCQwwMx1Z1c0",
        "outputId": "8db8a976-8a4f-4f1a-9dcd-fc0b7930e6cf",
        "colab": {
          "base_uri": "https://localhost:8080/"
        }
      },
      "execution_count": 31,
      "outputs": [
        {
          "output_type": "stream",
          "name": "stdout",
          "text": [
            "Training accuracy : 100.0 %\n",
            "Testing accuracy : 71.42857142857143 %\n"
          ]
        }
      ]
    },
    {
      "cell_type": "code",
      "source": [
        "print(\"Confusion matrix of the model\",confusion_matrix(y_test,y_dt))\n",
        "\n",
        "print(\"Classification Report\",classification_report(y_test,y_dt))"
      ],
      "metadata": {
        "id": "MKM-HE4-aOVp",
        "outputId": "22e4fdca-8f66-40ce-80c0-d470980ac99e",
        "colab": {
          "base_uri": "https://localhost:8080/"
        }
      },
      "execution_count": 32,
      "outputs": [
        {
          "output_type": "stream",
          "name": "stdout",
          "text": [
            "Confusion matrix of the model [[32 12]\n",
            " [14 33]]\n",
            "Classification Report               precision    recall  f1-score   support\n",
            "\n",
            "           0       0.70      0.73      0.71        44\n",
            "           1       0.73      0.70      0.72        47\n",
            "\n",
            "    accuracy                           0.71        91\n",
            "   macro avg       0.71      0.71      0.71        91\n",
            "weighted avg       0.72      0.71      0.71        91\n",
            "\n"
          ]
        }
      ]
    },
    {
      "cell_type": "code",
      "source": [
        "from sklearn.model_selection import GridSearchCV\n",
        "gd_param = {\n",
        "    'criterion' : ['gini', 'entropy'],\n",
        "    'max_depth' : range(2, 32, 1),\n",
        "    'min_samples_leaf' : range(1, 10, 1),\n",
        "    'min_samples_split' : range(2, 10, 1),\n",
        "    'splitter' : ['best', 'random']\n",
        "}\n",
        "\n",
        "gd_search = GridSearchCV(DT_AL, gd_param, cv = 10, n_jobs = -1, verbose = 1)\n",
        "gd_search.fit(x_train, y_train)"
      ],
      "metadata": {
        "id": "PQhalvZyaZ1T",
        "outputId": "1cadc03e-3167-4f6a-e1db-edef909b10d3",
        "colab": {
          "base_uri": "https://localhost:8080/"
        }
      },
      "execution_count": 33,
      "outputs": [
        {
          "output_type": "stream",
          "name": "stdout",
          "text": [
            "Fitting 10 folds for each of 8640 candidates, totalling 86400 fits\n"
          ]
        },
        {
          "output_type": "execute_result",
          "data": {
            "text/plain": [
              "GridSearchCV(cv=10, estimator=DecisionTreeClassifier(), n_jobs=-1,\n",
              "             param_grid={'criterion': ['gini', 'entropy'],\n",
              "                         'max_depth': range(2, 32),\n",
              "                         'min_samples_leaf': range(1, 10),\n",
              "                         'min_samples_split': range(2, 10),\n",
              "                         'splitter': ['best', 'random']},\n",
              "             verbose=1)"
            ]
          },
          "metadata": {},
          "execution_count": 33
        }
      ]
    },
    {
      "cell_type": "code",
      "source": [
        "gd_search.best_score_"
      ],
      "metadata": {
        "id": "e3Dc4Z08amyx",
        "outputId": "1900499e-1aed-49c1-9d60-73e598174c64",
        "colab": {
          "base_uri": "https://localhost:8080/"
        }
      },
      "execution_count": 34,
      "outputs": [
        {
          "output_type": "execute_result",
          "data": {
            "text/plain": [
              "0.8497835497835498"
            ]
          },
          "metadata": {},
          "execution_count": 34
        }
      ]
    },
    {
      "cell_type": "code",
      "source": [
        "gd_search.best_params_"
      ],
      "metadata": {
        "id": "tCB-8vzRaoCI",
        "outputId": "f0ba6aa2-97b3-462b-de97-5ccec5f3c956",
        "colab": {
          "base_uri": "https://localhost:8080/"
        }
      },
      "execution_count": 35,
      "outputs": [
        {
          "output_type": "execute_result",
          "data": {
            "text/plain": [
              "{'criterion': 'gini',\n",
              " 'max_depth': 18,\n",
              " 'min_samples_leaf': 2,\n",
              " 'min_samples_split': 9,\n",
              " 'splitter': 'random'}"
            ]
          },
          "metadata": {},
          "execution_count": 35
        }
      ]
    },
    {
      "cell_type": "code",
      "source": [
        "DT = DecisionTreeClassifier(criterion= 'entropy', max_depth= 12, min_samples_leaf= 1, min_samples_split= 2, splitter= 'random')\n",
        "DT.fit(x_train, y_train)"
      ],
      "metadata": {
        "id": "geDNimdZasEU",
        "outputId": "ea9bc18e-a4fc-490c-d98d-3131feb8ba59",
        "colab": {
          "base_uri": "https://localhost:8080/"
        }
      },
      "execution_count": 36,
      "outputs": [
        {
          "output_type": "execute_result",
          "data": {
            "text/plain": [
              "DecisionTreeClassifier(criterion='entropy', max_depth=12, splitter='random')"
            ]
          },
          "metadata": {},
          "execution_count": 36
        }
      ]
    },
    {
      "cell_type": "code",
      "source": [
        "accuracy = {}\n",
        "\n",
        "y_pred = DT.predict(x_test)\n",
        "acc4 = accuracy_score(y_test,y_pred)\n",
        "accuracy['DT2']=acc4*100\n",
        "\n",
        "print(\"Training accuracy score of the model is:\",accuracy_score(y_train, DT.predict(x_train))*100,\"%\")\n",
        "print(\"Testing accuracy score of the model is:\",accuracy_score(y_test,y_pred)*100,\"%\")"
      ],
      "metadata": {
        "id": "75lWiY8LaxHb",
        "outputId": "8fd34250-60e3-4932-d29a-87062571b737",
        "colab": {
          "base_uri": "https://localhost:8080/"
        }
      },
      "execution_count": 37,
      "outputs": [
        {
          "output_type": "stream",
          "name": "stdout",
          "text": [
            "Training accuracy score of the model is: 99.52830188679245 %\n",
            "Testing accuracy score of the model is: 71.42857142857143 %\n"
          ]
        }
      ]
    },
    {
      "cell_type": "code",
      "source": [
        "print(\"Confusion matrix of the model\",confusion_matrix(y_test,y_pred))\n",
        "\n",
        "print(\"Classification Report\",classification_report(y_test,y_pred))"
      ],
      "metadata": {
        "id": "D49Kw0pqaz1k",
        "outputId": "58ee8dd9-a763-40ec-9e02-db0f2b78a957",
        "colab": {
          "base_uri": "https://localhost:8080/"
        }
      },
      "execution_count": 38,
      "outputs": [
        {
          "output_type": "stream",
          "name": "stdout",
          "text": [
            "Confusion matrix of the model [[33 11]\n",
            " [15 32]]\n",
            "Classification Report               precision    recall  f1-score   support\n",
            "\n",
            "           0       0.69      0.75      0.72        44\n",
            "           1       0.74      0.68      0.71        47\n",
            "\n",
            "    accuracy                           0.71        91\n",
            "   macro avg       0.72      0.72      0.71        91\n",
            "weighted avg       0.72      0.71      0.71        91\n",
            "\n"
          ]
        }
      ]
    },
    {
      "cell_type": "code",
      "source": [
        "import pickle\n",
        "filename = 'heart_disease.sav'\n",
        "pickle.dump(LR_al, open(filename, 'wb'))"
      ],
      "metadata": {
        "id": "5IQ3cbbs6lfX"
      },
      "execution_count": 39,
      "outputs": []
    },
    {
      "cell_type": "code",
      "source": [
        "# loading the saved model\n",
        "loaded_model = pickle.load(open('heart_disease.sav', 'rb'))"
      ],
      "metadata": {
        "id": "NutA60LB6yTx"
      },
      "execution_count": 40,
      "outputs": []
    },
    {
      "cell_type": "code",
      "source": [
        "from sklearn import metrics\n",
        "plt.figure(figsize=(8,5))\n",
        "models = [\n",
        "{\n",
        "    'label': 'LR',\n",
        "    'model': LR_al,\n",
        "},\n",
        "{\n",
        "    'label': 'DT',\n",
        "    'model': DT_AL,\n",
        "},\n",
        "{\n",
        "    'label': 'SVM',\n",
        "    'model': SVC_AL,\n",
        "},\n",
        "{\n",
        "    'label': 'KNN',\n",
        "    'model': KNN_AL,\n",
        "},\n",
        "{\n",
        "    'label': 'XGBoost',\n",
        "    'model': XGB,\n",
        "},\n",
        "{\n",
        "    'label': 'RF',\n",
        "    'model': RF_AL,\n",
        "},\n",
        "{\n",
        "    'label': 'GBDT',\n",
        "    'model': GBC,\n",
        "}\n",
        "]\n",
        "for m in models:\n",
        "    model = m['model'] \n",
        "    model.fit(x_train, y_train) \n",
        "    y_pred=model.predict(x_test) \n",
        "    fpr1, tpr1, thresholds = metrics.roc_curve(y_test, model.predict_proba(x_test)[:,1])\n",
        "    auc = metrics.roc_auc_score(y_test,model.predict(x_test))\n",
        "    plt.plot(fpr1, tpr1, label='%s - ROC (area = %0.2f)' % (m['label'], auc))\n",
        "\n",
        "plt.plot([0, 1], [0, 1],'r--')\n",
        "plt.xlim([-0.01, 1.0])\n",
        "plt.ylim([0.0, 1.05])\n",
        "plt.xlabel('1 - Specificity (False Positive Rate)', fontsize=12)\n",
        "plt.ylabel('Sensitivity (True Positive Rate)', fontsize=12)\n",
        "plt.title('ROC - Heart disease Prediction', fontsize=12)\n",
        "plt.legend(loc=\"lower right\", fontsize=12)\n",
        "plt.savefig(\"roc_diabetes.jpeg\", format='jpeg', dpi=400, bbox_inches='tight')\n",
        "plt.show"
      ],
      "metadata": {
        "id": "elEOWMlt7B5t",
        "outputId": "3816dde9-c5e4-4cab-c369-c2bf85aaf148",
        "colab": {
          "base_uri": "https://localhost:8080/",
          "height": 508
        }
      },
      "execution_count": 43,
      "outputs": [
        {
          "output_type": "stream",
          "name": "stderr",
          "text": [
            "/usr/local/lib/python3.7/dist-packages/sklearn/linear_model/_logistic.py:818: ConvergenceWarning: lbfgs failed to converge (status=1):\n",
            "STOP: TOTAL NO. of ITERATIONS REACHED LIMIT.\n",
            "\n",
            "Increase the number of iterations (max_iter) or scale the data as shown in:\n",
            "    https://scikit-learn.org/stable/modules/preprocessing.html\n",
            "Please also refer to the documentation for alternative solver options:\n",
            "    https://scikit-learn.org/stable/modules/linear_model.html#logistic-regression\n",
            "  extra_warning_msg=_LOGISTIC_SOLVER_CONVERGENCE_MSG,\n"
          ]
        },
        {
          "output_type": "execute_result",
          "data": {
            "text/plain": [
              "<function matplotlib.pyplot.show(*args, **kw)>"
            ]
          },
          "metadata": {},
          "execution_count": 43
        },
        {
          "output_type": "display_data",
          "data": {
            "text/plain": [
              "<Figure size 576x360 with 1 Axes>"
            ],
            "image/png": "[encoded data removed]"
          },
          "metadata": {
            "needs_background": "light"
          }
        }
      ]
    },
    {
      "cell_type": "code",
      "source": [
        "from sklearn import metrics\n",
        "import numpy as np\n",
        "import matplotlib.pyplot as plt\n",
        "models = [\n",
        "{\n",
        "    'label': 'LR',\n",
        "    'model': LR_al,\n",
        "},\n",
        "{\n",
        "    'label': 'DT',\n",
        "    'model': DT_AL,\n",
        "},\n",
        "{\n",
        "    'label': 'SVM',\n",
        "    'model': SVC_AL,\n",
        "},\n",
        "{\n",
        "    'label': 'KNN',\n",
        "    'model': KNN_AL,\n",
        "},\n",
        "{\n",
        "    'label': 'XGBoost',\n",
        "    'model': XGB,\n",
        "},\n",
        "{\n",
        "    'label': 'RF',\n",
        "    'model': RF_AL,\n",
        "},\n",
        "{\n",
        "    'label': 'GBDT',\n",
        "    'model': GBC,\n",
        " }\n",
        "]\n",
        "\n",
        "\n",
        "means_roc = []\n",
        "\n",
        "means_accuracy = [100*round(training_data_accuracy,4), 100*round(acc4,4), 100*round(acc_svc,4), 100*round(ACC,4), 100*round(ACC,4), \n",
        "                  100*round(acc_score,4), 100*round(ac,4)]\n",
        "\n",
        "for m in models:\n",
        "    model = m['model'] \n",
        "    model.fit(x_train, y_train) \n",
        "    y_pred=model.predict(x_test) \n",
        "    fpr1, tpr1, thresholds = metrics.roc_curve(y_test, model.predict_proba(x_test)[:,1])\n",
        "    auc = metrics.roc_auc_score(y_test,model.predict(x_test))\n",
        "    auc = 100*round(auc,4)\n",
        "    means_roc.append(auc)\n",
        "\n",
        "print(means_accuracy)\n",
        "print(means_roc)\n",
        "\n",
        "# data to plot\n",
        "n_groups = 7\n",
        "means_accuracy = tuple(means_accuracy)\n",
        "means_roc = tuple(means_roc)\n",
        "\n",
        "# create plot\n",
        "fig, ax = plt.subplots(figsize=(8,5))\n",
        "index = np.arange(n_groups)\n",
        "bar_width = 0.35\n",
        "opacity = 0.8\n",
        "\n",
        "rects1 = plt.bar(index, means_accuracy, bar_width,\n",
        "alpha=opacity,\n",
        "color='mediumpurple',\n",
        "label='Accuracy (%)')\n",
        "\n",
        "rects2 = plt.bar(index + bar_width, means_roc, bar_width,\n",
        "alpha=opacity,\n",
        "color='YELLOW',\n",
        "label='ROC (%)')\n",
        "\n",
        "plt.xlim([-1, 8])\n",
        "plt.ylim([60, 95])\n",
        "plt.title('Performance Evaluation for Heart Disease Prediction', fontsize=12)\n",
        "plt.xticks(index, ('   LR', '   DT', '   SVM', '   KNN', 'XGBoost' , '   RF', '   GBDT'), rotation=40, ha='center', fontsize=12)\n",
        "plt.legend(loc=\"upper right\", fontsize=10)\n",
        "plt.savefig(\"PE_diabetes.jpeg\", format='jpeg', dpi=400, bbox_inches='tight')\n",
        "plt.show()"
      ],
      "metadata": {
        "id": "AcvBHPWs8Wrn",
        "outputId": "29ff3e28-5811-42ee-bb78-1c9c3273aa7c",
        "colab": {
          "base_uri": "https://localhost:8080/",
          "height": 542
        }
      },
      "execution_count": 45,
      "outputs": [
        {
          "output_type": "stream",
          "name": "stderr",
          "text": [
            "/usr/local/lib/python3.7/dist-packages/sklearn/linear_model/_logistic.py:818: ConvergenceWarning: lbfgs failed to converge (status=1):\n",
            "STOP: TOTAL NO. of ITERATIONS REACHED LIMIT.\n",
            "\n",
            "Increase the number of iterations (max_iter) or scale the data as shown in:\n",
            "    https://scikit-learn.org/stable/modules/preprocessing.html\n",
            "Please also refer to the documentation for alternative solver options:\n",
            "    https://scikit-learn.org/stable/modules/linear_model.html#logistic-regression\n",
            "  extra_warning_msg=_LOGISTIC_SOLVER_CONVERGENCE_MSG,\n"
          ]
        },
        {
          "output_type": "stream",
          "name": "stdout",
          "text": [
            "[86.79, 71.43, 67.03, 70.33, 70.33, 83.52000000000001, 79.12]\n",
            "[83.24000000000001, 73.6, 66.27, 70.33, 79.97999999999999, 81.04, 78.84]\n"
          ]
        },
        {
          "output_type": "display_data",
          "data": {
            "text/plain": [
              "<Figure size 576x360 with 1 Axes>"
            ],
            "image/png": "[encoded data removed]"
          },
          "metadata": {
            "needs_background": "light"
          }
        }
      ]
    }
  ]
}